{
 "cells": [
  {
   "cell_type": "code",
   "execution_count": 12,
   "metadata": {},
   "outputs": [
    {
     "name": "stdout",
     "output_type": "stream",
     "text": [
      "Table ROW * COL: 1000 * 4\n",
      "Table ROW * COL: 1000 * 4\n",
      "Table ROW * COL: 1000 * 4\n",
      "Table ROW * COL: 1000 * 4\n",
      "Table ROW * COL: 1000 * 4\n",
      "{0: {}, 1: {}, 2: {}, 3: {}}\n"
     ]
    }
   ],
   "source": [
    "import numpy as np\n",
    "import csv\n",
    "import utility\n",
    "from learnAlg import *\n",
    "\n",
    "def constraintBN(filename, location, sample_size = 100, iteration = 1, alpha = 0.5):\n",
    "    # left -> right\n",
    "    edge = {}\n",
    "    print \"sample_size: {}, iterations: {}, alpha: {}\".format(sample_size, iteration, alpha)\n",
    "    for i in range(iteration):\n",
    "        print \"iteration {}\".format(i)\n",
    "        path = location + filename\n",
    "        #clean_path = location + filename.split(\".\")[0] + \"-num.csv\"\n",
    "        # Reformat data and replace string, size = sample_size\n",
    "        data, field = utility.reformat(path, size = sample_size)\n",
    "        if i == 0:\n",
    "            utility.printAttr(field)\n",
    "        data = np.array(data, np.int32)\n",
    "        #data = np.genfromtxt(clean_path, dtype='int32', delimiter=',')\n",
    "        # 1. Find Markov Blankets\n",
    "        mb = gs(data, alpha = alpha)\n",
    "        mb = check_symmetric(mb)\n",
    "        # 2. learning neighbors\n",
    "        nb = learnNb(data, mb, alpha = alpha)\n",
    "        nb = check_symmetric(nb)\n",
    "        # 3. learning directions\n",
    "        arc = learnDir(data, nb, alpha = alpha)\n",
    "        # majority vote\n",
    "        for left in arc.keys():\n",
    "            right = arc[left]\n",
    "            if left not in edge.keys():\n",
    "                edge[left] = {}\n",
    "            for r in right:\n",
    "                if r not in edge[left].keys():\n",
    "                    edge[left][r] = 1\n",
    "                else:\n",
    "                    edge[left][r] += 1\n",
    "    printEdge(edge, itr = iteration)\n",
    "    return edge\n",
    "\n",
    "def printEdge(edge, itr, threshold = 0.5):\n",
    "    for e in edge:\n",
    "        right = edge[e]\n",
    "        for r in right:\n",
    "            if edge[e][r] > threshold*itr:\n",
    "                print \"{} -> {} ({})\".format(e, r, edge[e][r])\n",
    "\n",
    "if __name__ == '__main__':\n",
    "    filename = '500_Cities__Local_Data_for_Better_Health__2017_release.csv'\n",
    "    location = '/Users/scarlet/Documents/holocleandiscoverFDs/datasets/'\n",
    "    edges = constraintBN(filename, location)\n",
    "    #print edges\n",
    "    "
   ]
  },
  {
   "cell_type": "code",
   "execution_count": 2,
   "metadata": {},
   "outputs": [
    {
     "name": "stdout",
     "output_type": "stream",
     "text": [
      "False\n"
     ]
    }
   ],
   "source": []
  },
  {
   "cell_type": "code",
   "execution_count": 9,
   "metadata": {
    "scrolled": true
   },
   "outputs": [
    {
     "name": "stdout",
     "output_type": "stream",
     "text": [
      "[[  0   0   0 ...,   0   0   0]\n",
      " [  1   1   1 ...,   0   0   0]\n",
      " [  2   2   2 ...,   1   0   0]\n",
      " ..., \n",
      " [ 44   2 547 ...,   0   0   0]\n",
      " [  1   2 956 ...,   0   0   0]\n",
      " [ 32   2 957 ...,   0   0   1]]\n",
      "Table ROW*COL: 1000 * 15\n",
      "blanket for 0\n",
      "[]\n",
      "blanket for 1\n",
      "[9]\n",
      "blanket for 2\n",
      "[]\n",
      "blanket for 3\n",
      "[]\n",
      "blanket for 4\n",
      "[]\n",
      "blanket for 5\n",
      "[]\n",
      "blanket for 6\n",
      "[]\n",
      "blanket for 7\n",
      "[]\n",
      "blanket for 8\n",
      "[9, 14]\n",
      "blanket for 9\n",
      "[8]\n",
      "blanket for 10\n",
      "[14]\n",
      "blanket for 11\n",
      "[14]\n",
      "blanket for 12\n",
      "[]\n",
      "blanket for 13\n",
      "[]\n",
      "blanket for 14\n",
      "[8]\n"
     ]
    }
   ],
   "source": [
    "\n",
    "\n"
   ]
  },
  {
   "cell_type": "code",
   "execution_count": null,
   "metadata": {
    "collapsed": true
   },
   "outputs": [],
   "source": []
  }
 ],
 "metadata": {
  "kernelspec": {
   "display_name": "Python 2",
   "language": "python",
   "name": "python2"
  },
  "language_info": {
   "codemirror_mode": {
    "name": "ipython",
    "version": 2
   },
   "file_extension": ".py",
   "mimetype": "text/x-python",
   "name": "python",
   "nbconvert_exporter": "python",
   "pygments_lexer": "ipython2",
   "version": "2.7.14"
  }
 },
 "nbformat": 4,
 "nbformat_minor": 2
}
